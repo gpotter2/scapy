{
 "cells": [
  {
   "cell_type": "markdown",
   "metadata": {},
   "source": [
    "# TLS 1.3 handshake overview\n",
    "This is the basic TLS 1.3 handshake:\n",
    "\n",
    "<img src=\"images/handshake_tls13.png\" alt=\"Handshake TLS 1.3\" width=\"400\"/>"
   ]
  },
  {
   "cell_type": "code",
   "execution_count": 23,
   "metadata": {},
   "outputs": [],
   "source": [
    "import os, sys; sys.path.append(os.path.join(os.getcwd(), '../../..'))"
   ]
  },
  {
   "cell_type": "code",
   "execution_count": 24,
   "metadata": {},
   "outputs": [],
   "source": [
    "from scapy.all import *\n",
    "load_layer('tls')"
   ]
  },
  {
   "cell_type": "code",
   "execution_count": 25,
   "metadata": {},
   "outputs": [
    {
     "name": "stdout",
     "output_type": "stream",
     "text": [
      "###[ TLS ]### \n",
      "  type      = handshake\n",
      "  version   = TLS 1.0\n",
      "  len       = 174    [deciphered_len= 174]\n",
      "  iv        = b''\n",
      "  \\msg       \\\n",
      "   |###[ TLS Handshake - Client Hello ]### \n",
      "   |  msgtype   = client_hello\n",
      "   |  msglen    = 170\n",
      "   |  version   = TLS 1.2\n",
      "   |  gmt_unix_time= Wed, 07 Nov 2085 08:42:53 +0000 (3655960973)\n",
      "   |  random_bytes= f63d43adbe64a2634f0b63bcdc4019a3e526bc013a6042e05b14555c\n",
      "   |  sidlen    = 0\n",
      "   |  sid       = ''\n",
      "   |  cipherslen= 6\n",
      "   |  ciphers   = [TLS_AES_128_GCM_SHA256, TLS_CHACHA20_POLY1305_SHA256, TLS_AES_256_GCM_SHA384]\n",
      "   |  complen   = 1\n",
      "   |  comp      = null\n",
      "   |  extlen    = 123\n",
      "   |  \\ext       \\\n",
      "   |   |###[ TLS Extension - Server Name ]### \n",
      "   |   |  type      = server_name\n",
      "   |   |  len       = 11\n",
      "   |   |  servernameslen= 9\n",
      "   |   |  servernames= [b'server']\n",
      "   |   |###[ TLS Extension - Renegotiation Indication ]### \n",
      "   |   |  type      = renegotiation_info\n",
      "   |   |  len       = 1\n",
      "   |   |  reneg_conn_len= 0\n",
      "   |   |  renegotiated_connection= ''\n",
      "   |   |###[ TLS Extension - Supported Groups ]### \n",
      "   |   |  type      = supported_groups\n",
      "   |   |  len       = 8\n",
      "   |   |  groupslen = 6\n",
      "   |   |  groups    = [x25519, secp256r1, secp384r1]\n",
      "   |   |###[ TLS Extension - Scapy Unknown ]### \n",
      "   |   |  type      = 40\n",
      "   |   |  len       = 38\n",
      "   |   |  val       = '\\x00$\\x00\\x1d\\x00 \\x05\\\\xef\\\\xa9M\\x13\\\\xf5\\\\xad\\\\xcd\\x14!\\\\x93yգ}\\\\xbc\\\\xe4r\\x1d\\\\x92\\\\x94\\\\xe5r\\\\xc6e\\x1a\\\\xebv\\x188\\\\x81['\n",
      "   |   |###[ TLS Extension - Supported Versions (for ClientHello) ]### \n",
      "   |   |  type      = supported_versions\n",
      "   |   |  len       = 3\n",
      "   |   |  versionslen= 2\n",
      "   |   |  versions  = [TLS 1.3-d18]\n",
      "   |   |###[ TLS Extension - Signature Algorithms ]### \n",
      "   |   |  type      = signature_algorithms\n",
      "   |   |  len       = 32\n",
      "   |   |  sig_algs_len= 30\n",
      "   |   |  sig_algs  = [sha256+ecdsa, sha384+ecdsa, sha512+ecdsa, sha1+ecdsa, sha256+rsaepss, sha384+rsaepss, sha512+rsaepss, sha256+rsa, sha384+rsa, sha512+rsa, sha1+rsa, sha256+dsa, sha384+dsa, sha512+dsa, sha1+dsa]\n",
      "   |   |###[ TLS Extension - PSK Key Exchange Modes ]### \n",
      "   |   |  type      = psk_key_exchange_modes\n",
      "   |   |  len       = 2\n",
      "   |   |  kxmodeslen= 1\n",
      "   |   |  kxmodes   = [psk_dhe_ke]\n",
      "  mac       = b''\n",
      "  pad       = b''\n",
      "  padlen    = None\n",
      "\n"
     ]
    }
   ],
   "source": [
    "record1_str = open('raw_data/tls_session_13/01_cli.raw', 'rb').read()\n",
    "record1 = TLS(record1_str)\n",
    "sess = record1.tls_session\n",
    "record1.show()"
   ]
  },
  {
   "cell_type": "code",
   "execution_count": 26,
   "metadata": {},
   "outputs": [
    {
     "name": "stdout",
     "output_type": "stream",
     "text": [
      "###[ TLS ]### \n",
      "  type      = handshake\n",
      "  version   = TLS 1.0\n",
      "  len       = 14    [deciphered_len= 14]\n",
      "  iv        = b''\n",
      "  \\msg       \\\n",
      "   |###[ Raw ]### \n",
      "   |  load      = '\\x06\\x00\\x00\\n\\x7f\\x12\\x00\\x06\\x00(\\x00\\x02\\x00\\x17'\n",
      "  mac       = b''\n",
      "  pad       = b''\n",
      "  padlen    = None\n",
      "\n"
     ]
    }
   ],
   "source": [
    "record2_str = open('raw_data/tls_session_13/02_srv.raw', 'rb').read()\n",
    "record2 = TLS(record2_str, tls_session=sess.mirror())\n",
    "record2.show()"
   ]
  },
  {
   "cell_type": "code",
   "execution_count": 27,
   "metadata": {},
   "outputs": [
    {
     "name": "stdout",
     "output_type": "stream",
     "text": [
      "###[ TLS ]### \n",
      "  type      = handshake\n",
      "  version   = TLS 1.0\n",
      "  len       = 207    [deciphered_len= 207]\n",
      "  iv        = b''\n",
      "  \\msg       \\\n",
      "   |###[ TLS Handshake - Client Hello ]### \n",
      "   |  msgtype   = client_hello\n",
      "   |  msglen    = 203\n",
      "   |  version   = TLS 1.2\n",
      "   |  gmt_unix_time= Wed, 07 Nov 2085 08:42:53 +0000 (3655960973)\n",
      "   |  random_bytes= f63d43adbe64a2634f0b63bcdc4019a3e526bc013a6042e05b14555c\n",
      "   |  sidlen    = 0\n",
      "   |  sid       = ''\n",
      "   |  cipherslen= 6\n",
      "   |  ciphers   = [TLS_AES_128_GCM_SHA256, TLS_CHACHA20_POLY1305_SHA256, TLS_AES_256_GCM_SHA384]\n",
      "   |  complen   = 1\n",
      "   |  comp      = null\n",
      "   |  extlen    = 156\n",
      "   |  \\ext       \\\n",
      "   |   |###[ TLS Extension - Server Name ]### \n",
      "   |   |  type      = server_name\n",
      "   |   |  len       = 11\n",
      "   |   |  servernameslen= 9\n",
      "   |   |  servernames= [b'server']\n",
      "   |   |###[ TLS Extension - Renegotiation Indication ]### \n",
      "   |   |  type      = renegotiation_info\n",
      "   |   |  len       = 1\n",
      "   |   |  reneg_conn_len= 0\n",
      "   |   |  renegotiated_connection= ''\n",
      "   |   |###[ TLS Extension - Supported Groups ]### \n",
      "   |   |  type      = supported_groups\n",
      "   |   |  len       = 8\n",
      "   |   |  groupslen = 6\n",
      "   |   |  groups    = [x25519, secp256r1, secp384r1]\n",
      "   |   |###[ TLS Extension - Scapy Unknown ]### \n",
      "   |   |  type      = 40\n",
      "   |   |  len       = 71\n",
      "   |   |  val       = \"\\x00E\\x00\\x17\\x00A\\x04\\x1eZx_T\\x17\\\\xfb\\x18\\\\xdbB\\\\x93\\\\x8454\\\\xa5\\\\xc0\\\\xbantK\\\\xaahFг/N\\\\x9e\\\\xa3\\\\x92'$\\\\xa0\\\\x8f*\\\\xdb\\t\\\\xf0q\\\\xf8\\x14\\x02\\\\xe7\\\\xfd\\\\x8c\\\\xa3;v\\\\xab\\\\xe1\\\\xcdUo\\\\xd3\\\\xe8\\\\xfe \\\\xe0\\\\xfd.\\\\x82\\x02\\\\xf9i\"\n",
      "   |   |###[ TLS Extension - Supported Versions (for ClientHello) ]### \n",
      "   |   |  type      = supported_versions\n",
      "   |   |  len       = 3\n",
      "   |   |  versionslen= 2\n",
      "   |   |  versions  = [TLS 1.3-d18]\n",
      "   |   |###[ TLS Extension - Signature Algorithms ]### \n",
      "   |   |  type      = signature_algorithms\n",
      "   |   |  len       = 32\n",
      "   |   |  sig_algs_len= 30\n",
      "   |   |  sig_algs  = [sha256+ecdsa, sha384+ecdsa, sha512+ecdsa, sha1+ecdsa, sha256+rsaepss, sha384+rsaepss, sha512+rsaepss, sha256+rsa, sha384+rsa, sha512+rsa, sha1+rsa, sha256+dsa, sha384+dsa, sha512+dsa, sha1+dsa]\n",
      "   |   |###[ TLS Extension - PSK Key Exchange Modes ]### \n",
      "   |   |  type      = psk_key_exchange_modes\n",
      "   |   |  len       = 2\n",
      "   |   |  kxmodeslen= 1\n",
      "   |   |  kxmodes   = [psk_dhe_ke]\n",
      "  mac       = b''\n",
      "  pad       = b''\n",
      "  padlen    = None\n",
      "\n"
     ]
    }
   ],
   "source": [
    "record3_str = open('raw_data/tls_session_13/03_cli.raw', 'rb').read()\n",
    "record3 = TLS(record3_str, tls_session=sess.mirror())\n",
    "record3.show()"
   ]
  },
  {
   "cell_type": "code",
   "execution_count": 34,
   "metadata": {},
   "outputs": [],
   "source": [
    "# The PFS relies on the ECDH secret below being kept from observers, and deleted right after the key exchange\n",
    "#from cryptography.hazmat.primitives.asymmetric.ec import EllipticCurvePrivateNumbers\n",
    "#from cryptography.hazmat.backends import default_backend\n",
    "#secp256r1_client_privkey = open('raw_data/tls_session_13/cli_key.raw', 'rb').read()\n",
    "#pubnum = sess.tls13_client_pubshares[\"secp256r1\"].public_numbers()\n",
    "#privnum = EllipticCurvePrivateNumbers(pkcs_os2ip(secp256r1_client_privkey), pubnum)\n",
    "#privkey = privnum.private_key(default_backend())\n",
    "#sess.tls13_client_privshares[\"secp256r1\"] = privkey\n",
    "sess.server_kx_pubkey"
   ]
  },
  {
   "cell_type": "code",
   "execution_count": null,
   "metadata": {
    "scrolled": true
   },
   "outputs": [],
   "source": [
    "record4_str = open('raw_data/tls_session_13/04_srv.raw', 'rb').read()\n",
    "record4 = TLS(record4_str, tls_session=sess.mirror())\n",
    "record4.show()"
   ]
  },
  {
   "cell_type": "code",
   "execution_count": null,
   "metadata": {},
   "outputs": [],
   "source": [
    "record5_str = open('raw_data/tls_session_13/05_srv.raw', 'rb').read()\n",
    "record5 = TLS(record5_str, tls_session=sess)\n",
    "record5.show()"
   ]
  },
  {
   "cell_type": "code",
   "execution_count": null,
   "metadata": {},
   "outputs": [],
   "source": [
    "record6_str = open('raw_data/tls_session_13/06_cli.raw', 'rb').read()\n",
    "record6 = TLS(record6_str, tls_session=sess.mirror())\n",
    "record6.show()"
   ]
  },
  {
   "cell_type": "markdown",
   "metadata": {},
   "source": [
    "## Observations sur TLS 1.3\n",
    "* Certificat désormais chiffré...\n",
    "* ...mais pas le Server Name dans le ClientHello\n",
    "* Risques du mode 0-RTT"
   ]
  }
 ],
 "metadata": {
  "kernelspec": {
   "display_name": "Python 3",
   "language": "python",
   "name": "python3"
  },
  "language_info": {
   "codemirror_mode": {
    "name": "ipython",
    "version": 3
   },
   "file_extension": ".py",
   "mimetype": "text/x-python",
   "name": "python",
   "nbconvert_exporter": "python",
   "pygments_lexer": "ipython3",
   "version": "3.9.1"
  }
 },
 "nbformat": 4,
 "nbformat_minor": 2
}
